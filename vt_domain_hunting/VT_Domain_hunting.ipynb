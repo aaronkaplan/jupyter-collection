{
 "cells": [
  {
   "cell_type": "markdown",
   "id": "a9f93bb3-4bdb-4673-ace2-9b61788ddad1",
   "metadata": {},
   "source": [
    "# VT Hunting Domain Relationship using MSTICpy"
   ]
  },
  {
   "cell_type": "markdown",
   "id": "c616e6ff-e904-4083-a05d-6cce8d454f39",
   "metadata": {},
   "source": [
    "This Jupyter notebook allows to request VirusTotal for a specific domain name, url or an IP address and see samples that have relationship using MSTICpy. To use it you need the following package:\n",
    "* pip install msticpy\n",
    "* pandas\n",
    "* textsearch\n",
    "* ipywidget\n",
    "\n",
    "To use the VT_lookup module you need to add your VTI API in the msticpyconfig.yaml or modify the variable vt_key. \n",
    "\n",
    "Notes: The API can retrieve only 40 results, you have to specify the limit if you want to have less result. By default it is limited to 10 results. Be careful to your quota!"
   ]
  },
  {
   "cell_type": "code",
   "execution_count": 10,
   "id": "82baf840-b251-4ca8-920f-06d283627164",
   "metadata": {},
   "outputs": [],
   "source": [
    "#----------------------------------------------------------------------------\n",
    "# Author: Thomas Roccia\n",
    "# Date: May 2022\n",
    "# version = '1.0'\n",
    "# ---------------------------------------------------------------------------\n",
    "\n",
    "# Loading the VT API key and libs\n",
    "from msticpy.common.provider_settings import get_provider_settings\n",
    "from msticpy.sectools.vtlookupv3 import VTLookupV3, VTEntityType\n",
    "from IPython.display import display, HTML\n",
    "from textsearch import TextSearch\n",
    "from IPython.display import display\n",
    "\n",
    "import nest_asyncio\n",
    "import re\n",
    "import pandas as pd\n",
    "import numpy as np\n",
    "import ipywidgets as widgets\n",
    "\n",
    "pd.set_option('display.max_colwidth', None)\n",
    "\n",
    "# ADD YOUR VTI API HERE\n",
    "# VT API Key https://developers.virustotal.com/reference/overview\n",
    "# update msticpyconfig.yaml or uncomment the variable below with your own key. \n",
    "#vt_key =  \"<YourAPIkey>\"\n",
    "\n",
    "# Get API key from mscticpyconfig, comment if you use the variable above\n",
    "vt_key = get_provider_settings(\"TIProviders\")[\"VirusTotal\"].args[\"AuthKey\"]\n",
    "\n",
    "# Instantiate vt_lookup object\n",
    "vt_lookup = VTLookupV3(vt_key)\n",
    "\n",
    "nest_asyncio.apply()"
   ]
  },
  {
   "cell_type": "code",
   "execution_count": 15,
   "id": "5655df39-1532-4662-a287-e07303175a0d",
   "metadata": {},
   "outputs": [
    {
     "data": {
      "text/html": [
       "<h2>Samples Hunting on domain/ip/url Relationship</h2"
      ],
      "text/plain": [
       "<IPython.core.display.HTML object>"
      ]
     },
     "metadata": {},
     "output_type": "display_data"
    },
    {
     "data": {
      "text/html": [
       "<h3>Usage: </h3"
      ],
      "text/plain": [
       "<IPython.core.display.HTML object>"
      ]
     },
     "metadata": {},
     "output_type": "display_data"
    },
    {
     "data": {
      "text/html": [
       "Enter the domain, url, ip, you want to search (e.g: 'anjian.com', '104.131.11.150')."
      ],
      "text/plain": [
       "<IPython.core.display.HTML object>"
      ]
     },
     "metadata": {},
     "output_type": "display_data"
    },
    {
     "data": {
      "text/html": [
       "Use the second box to apply a filter on your request, you can use regex, keyword or signature name (e.g: 'trojan|PUA', 'emotet', 'Trojan:Win64/Emotetcrypt')."
      ],
      "text/plain": [
       "<IPython.core.display.HTML object>"
      ]
     },
     "metadata": {},
     "output_type": "display_data"
    },
    {
     "data": {
      "text/html": [
       "By default the request will be limited to 10 results but you can increase it to 40. Be careful to your quota."
      ],
      "text/plain": [
       "<IPython.core.display.HTML object>"
      ]
     },
     "metadata": {},
     "output_type": "display_data"
    },
    {
     "data": {
      "application/vnd.jupyter.widget-view+json": {
       "model_id": "984c2381607042a3bae6eccb4bec0f3d",
       "version_major": 2,
       "version_minor": 0
      },
      "text/plain": [
       "Text(value='', description='Observable:', placeholder='ip, domain, url...')"
      ]
     },
     "metadata": {},
     "output_type": "display_data"
    },
    {
     "data": {
      "application/vnd.jupyter.widget-view+json": {
       "model_id": "75903efd8b294492989294ca85796cd5",
       "version_major": 2,
       "version_minor": 0
      },
      "text/plain": [
       "Text(value='', description='Filter:', placeholder='signature, keyword, family...')"
      ]
     },
     "metadata": {},
     "output_type": "display_data"
    },
    {
     "data": {
      "application/vnd.jupyter.widget-view+json": {
       "model_id": "5ebabc60dc0d4960b4545dd79be0c3ba",
       "version_major": 2,
       "version_minor": 0
      },
      "text/plain": [
       "IntSlider(value=10, description='Limit:', max=40, min=1)"
      ]
     },
     "metadata": {},
     "output_type": "display_data"
    },
    {
     "data": {
      "application/vnd.jupyter.widget-view+json": {
       "model_id": "5536ac36250243a2bf16ce73f80dac27",
       "version_major": 2,
       "version_minor": 0
      },
      "text/plain": [
       "RadioButtons(description='Relationship:', options=('downloaded_files', 'communicating_files'), value='download…"
      ]
     },
     "metadata": {},
     "output_type": "display_data"
    },
    {
     "data": {
      "application/vnd.jupyter.widget-view+json": {
       "model_id": "8ded41fb1f43422d9fd085b780df6a1b",
       "version_major": 2,
       "version_minor": 0
      },
      "text/plain": [
       "Button(description='search', icon='check', style=ButtonStyle())"
      ]
     },
     "metadata": {},
     "output_type": "display_data"
    },
    {
     "data": {
      "application/vnd.jupyter.widget-view+json": {
       "model_id": "a0a6562fa20446de938bb4d57710c266",
       "version_major": 2,
       "version_minor": 0
      },
      "text/plain": [
       "Output()"
      ]
     },
     "metadata": {},
     "output_type": "display_data"
    }
   ],
   "source": [
    "# Get relationship for one domain\n",
    "\n",
    "# Usage\n",
    "display(HTML(\"<h2>Samples Hunting on domain/ip/url Relationship</h2\"))\n",
    "display(HTML(\"<h3>Usage: </h3\"))\n",
    "display(HTML(\"Enter the domain, url, ip, you want to search (e.g: 'anjian.com', '104.131.11.150').\"))\n",
    "display(HTML(\"Use the second box to apply a filter on your request, you can use regex, keyword or signature name (e.g: 'trojan|PUA', 'emotet', 'Trojan:Win64/Emotetcrypt').\"))\n",
    "display(HTML(\"By default the request will be limited to 10 results but you can increase it to 40. Be careful to your quota.\"))\n",
    "\n",
    "# Search widget\n",
    "keyword = widgets.Text(\n",
    "    value='',\n",
    "    placeholder='ip, domain, url...',\n",
    "    description='Observable:',\n",
    "    disabled=False\n",
    ")\n",
    "display(keyword)\n",
    "\n",
    "keyword2 = widgets.Text(\n",
    "    value='',\n",
    "    placeholder='signature, keyword, family...',\n",
    "    description='Filter:',\n",
    "    disabled=False\n",
    ")\n",
    "display(keyword2)\n",
    "\n",
    "# Slider for limit\n",
    "limit = widgets.IntSlider(min = 1, max = 40, value = 10 , description='Limit:')\n",
    "display(limit)\n",
    "\n",
    "\n",
    "# Radio widget\n",
    "selection = widgets.RadioButtons(\n",
    "    options = ['downloaded_files', 'communicating_files'],\n",
    "    description = 'Relationship:',\n",
    "    disabled = False\n",
    ")\n",
    "display(selection)\n",
    "\n",
    "# Radio widget\n",
    "fileext = widgets.RadioButtons(\n",
    "    options = ['all', 'peexe', 'pedll', 'doc', 'docx', 'ppt', 'pptx', 'xls', 'xlsx', 'html', 'xml', 'php', 'java', 'java-bytecode'],\n",
    "    description = 'File type:',\n",
    "    disabled = True\n",
    ")\n",
    "#display(fileext)\n",
    "\n",
    "# Configure click button\n",
    "button = widgets.Button(description=\"search\", icon='check')\n",
    "display(button)\n",
    "\n",
    "# Display widget\n",
    "output = widgets.Output()\n",
    "\n",
    "searchResult = []\n",
    "filetype = []\n",
    "\n",
    "# Searching for the input word\n",
    "@output.capture()\n",
    "def userInput(b):\n",
    "    \n",
    "    # Regex\n",
    "    validip = \"^((25[0-5]|2[0-4][0-9]|1[0-9][0-9]|[1-9]?[0-9])\\.){3}(25[0-5]|2[0-4][0-9]|1[0-9][0-9]|[1-9]?[0-9])$\"\n",
    "    validdomain = \"^((?!-)[A-Za-z0-9-]\" + \"{1,63}(?<!-)\\\\.)\" + \"+[A-Za-z]{2,6}\"\n",
    "    validurl = r\"(?i)\\b((?:https?://|www\\d{0,3}[.]|[a-z0-9.\\-]+[.][a-z]{2,4}/)(?:[^\\s()<>]+|\\(([^\\s()<>]+|(\\([^\\s()<>]+\\)))*\\))+(?:\\(([^\\s()<>]+|(\\([^\\s()<>]+\\)))*\\)|[^\\s`!()\\[\\]{};:'\\\".,<>?«»“”‘’]))\"\n",
    "    \n",
    "    # Compile the ReGex\n",
    "    domain = re.compile(validdomain)\n",
    "    ip = re.compile(validip)\n",
    "    url = re.compile(validurl)\n",
    "    \n",
    "    print(\"[+] Searching VT samples that have relationship with: \" + keyword.value)\n",
    "    \n",
    "    if re.search(ip, keyword.value):\n",
    "        domain_relation = vt_lookup.lookup_ioc_relationships(observable = keyword.value, vt_type = 'ip_address', relationship = selection.value, limit = limit.value)\n",
    "    elif re.search(domain, keyword.value):\n",
    "        domain_relation = vt_lookup.lookup_ioc_relationships(observable = keyword.value, vt_type = 'domain', relationship = selection.value, limit = limit.value)\n",
    "    elif re.search(url, keyword.value):\n",
    "        domain_relation = vt_lookup.lookup_ioc_relationships(observable = keyword.value, vt_type = 'url', relationship = selection.value, limit = limit.value)\n",
    "    else:\n",
    "        print(\"[!] Not a valid ip, domain or url!\")\n",
    "\n",
    "    if keyword2.value: \n",
    "        for sample in domain_relation[\"target\"]:\n",
    "\n",
    "            hash_details = vt_lookup.get_object(sample, \"file\")\n",
    "            search = hash_details.apply(lambda row: row.astype(str).str.contains(keyword2.value, regex = True, flags = re.IGNORECASE).any(), axis=1)\n",
    "            \n",
    "            if \"magic\" in hash_details.columns:\n",
    "                filetype.append(hash_details[\"magic\"])\n",
    "\n",
    "            if search[0] != True:\n",
    "                searchResult.append(\"False\")\n",
    "            else:\n",
    "                searchResult.append(\"True\")     \n",
    "\n",
    "        domain_relation[\"magic\"] = filetype\n",
    "        domain_relation[keyword2.value] = searchResult\n",
    "\n",
    "    display(domain_relation)\n",
    "\n",
    "\n",
    "# get the input word\n",
    "button.on_click(userInput)\n",
    "display(output)"
   ]
  },
  {
   "cell_type": "code",
   "execution_count": 18,
   "id": "7039edee-ad15-49a7-a653-35cb8251046c",
   "metadata": {},
   "outputs": [
    {
     "data": {
      "text/html": [
       "<h3> Example </h3>"
      ],
      "text/plain": [
       "<IPython.core.display.HTML object>"
      ]
     },
     "metadata": {},
     "output_type": "display_data"
    },
    {
     "data": {
      "image/png": "[encoded data removed]",
      "text/plain": [
       "<IPython.core.display.Image object>"
      ]
     },
     "execution_count": 18,
     "metadata": {},
     "output_type": "execute_result"
    }
   ],
   "source": [
    "from IPython.display import Image\n",
    "display(HTML(\"<h3> Example </h3>\"))\n",
    "Image(filename='example.png') "
   ]
  },
  {
   "cell_type": "markdown",
   "id": "af391ebf-c201-45c8-8260-9aa6794236b6",
   "metadata": {},
   "source": [
    "# Contact\n",
    "If you like this content, send a hug on Twitter for more stuff like this!\n",
    "\n",
    "<a href=\"https://twitter.com/fr0gger_?ref_src=twsrc%5Etfw\" class=\"twitter-follow-button\" data-show-count=\"false\">Follow @fr0gger_</a><script async src=\"https://platform.twitter.com/widgets.js\" charset=\"utf-8\"></script>"
   ]
  }
 ],
 "metadata": {
  "kernelspec": {
   "display_name": "Python 3 (ipykernel)",
   "language": "python",
   "name": "python3"
  },
  "language_info": {
   "codemirror_mode": {
    "name": "ipython",
    "version": 3
   },
   "file_extension": ".py",
   "mimetype": "text/x-python",
   "name": "python",
   "nbconvert_exporter": "python",
   "pygments_lexer": "ipython3",
   "version": "3.9.8"
  }
 },
 "nbformat": 4,
 "nbformat_minor": 5
}
